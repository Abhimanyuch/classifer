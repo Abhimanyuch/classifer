{
 "cells": [
  {
   "cell_type": "code",
   "execution_count": 22,
   "id": "75297969",
   "metadata": {},
   "outputs": [],
   "source": [
    "import numpy as np\n",
    "import pandas as pd\n",
    "import matplotlib.pyplot as plt\n",
    "import seaborn as sns\n",
    "import email\n",
    "import string\n",
    "from bs4 import BeautifulSoup\n",
    "import re\n",
    "import nltk\n",
    "from nltk.corpus import stopwords\n",
    "from nltk.stem import PorterStemmer\n",
    "from nltk.stem import WordNetLemmatizer\n",
    "import os\n",
    "from sklearn.base import BaseEstimator, TransformerMixin\n",
    "from sklearn.feature_extraction.text import CountVectorizer\n",
    "import wordcloud\n",
    "from sklearn.pipeline import Pipeline\n",
    "from sklearn.metrics import accuracy_score\n",
    "from sklearn.metrics import f1_score\n",
    "from sklearn.metrics import recall_score\n",
    "from sklearn.metrics import precision_score\n",
    "from sklearn.metrics import confusion_matrix\n",
    "from sklearn.metrics import classification_report\n",
    "from sklearn.metrics import mean_squared_error\n",
    "import warnings\n",
    "warnings.filterwarnings('ignore')\n",
    "np.random.seed(49)"
   ]
  },
  {
   "cell_type": "code",
   "execution_count": 2,
   "id": "90c53c66",
   "metadata": {},
   "outputs": [],
   "source": [
    "dir_1=\"C:\\\\Users\\\\HP\\\\Desktop\\\\Data\\\\\"\n",
    "easy_ham_path= dir_1 + \"easy_ham\\\\\"\n",
    "easy_ham_path_2=dir_1 + \"easy_ham_2\\\\\"\n",
    "hard_ham_path=dir_1 + \"hard_ham\\\\\"\n",
    "spam_path_1=dir_1 + \"spam\\\\\"\n",
    "spam_path_2=dir_1 + \"spam_2\\\\\""
   ]
  },
  {
   "cell_type": "code",
   "execution_count": 3,
   "id": "e78f001d",
   "metadata": {},
   "outputs": [],
   "source": [
    "def fetch_data(path):\n",
    "    data = []\n",
    "    files = os.listdir(path)\n",
    "    for file in files:\n",
    "        f = open(path+file, encoding = \"ISO-8859-1\")\n",
    "        words_list = f.read()\n",
    "        data.append(words_list)\n",
    "        f.close()\n",
    "    return data"
   ]
  },
  {
   "cell_type": "code",
   "execution_count": 4,
   "id": "41b20d55",
   "metadata": {},
   "outputs": [],
   "source": [
    "easy_ham=fetch_data(easy_ham_path)\n",
    "easy_ham_2=fetch_data(easy_ham_path_2)\n",
    "hard_ham=fetch_data(hard_ham_path)\n",
    "ham=easy_ham+easy_ham_2+hard_ham\n",
    "spam_1=fetch_data(spam_path_1)\n",
    "spam_2=fetch_data(spam_path_2)\n",
    "spam=spam_1+spam_2"
   ]
  },
  {
   "cell_type": "code",
   "execution_count": 5,
   "id": "287c5240",
   "metadata": {},
   "outputs": [],
   "source": [
    "np.random.shuffle(ham)\n",
    "np.random.shuffle(spam)"
   ]
  },
  {
   "cell_type": "code",
   "execution_count": 27,
   "id": "ce17b271",
   "metadata": {},
   "outputs": [],
   "source": [
    "stemmer = PorterStemmer()\n",
    "lemmatizer = WordNetLemmatizer()\n",
    "class clean_email_text(BaseEstimator, TransformerMixin):\n",
    "    def __init__(self):\n",
    "        pass\n",
    "    def fit(self, X, y=None): \n",
    "        return self\n",
    "    def transform(self, X):\n",
    "        text_list = []\n",
    "        for mail in X:\n",
    "            b = email.message_from_string(mail)\n",
    "            body = \"\"\n",
    "            if b.is_multipart():\n",
    "                for part in b.walk():\n",
    "                    content_type = part.get_content_type()\n",
    "                    content_disposition = str(part.get('Content-Disposition'))\n",
    "                    if content_type == 'text/plain' and 'attachment' not in content_disposition:\n",
    "                        body = part.get_payload(decode=True)\n",
    "                        break\n",
    "            else:\n",
    "                body = b.get_payload(decode=True)\n",
    "            soup = BeautifulSoup(body, \"html.parser\")\n",
    "            text = soup.get_text().lower()\n",
    "            text = re.sub(r'(https|http)?:\\/\\/(\\w|\\.|\\/|\\?|\\=|\\&|\\%)*\\b', '', text, flags=re.MULTILINE)\n",
    "            text = re.sub(r'\\b[A-Za-z0-9._%+-]+@[A-Za-z0-9.-]+\\.[A-Z|a-z]{2,}\\b', '', text, flags=re.MULTILINE)     \n",
    "            text = text.translate(str.maketrans('', '', string.punctuation))\n",
    "            text = ''.join([i for i in text if not i.isdigit()])\n",
    "            stop_words = stopwords.words('english')\n",
    "            words_list = [w for w in text.split() if w not in stop_words]\n",
    "            words_list = [lemmatizer.lemmatize(w) for w in words_list] \n",
    "            text_list.append(' '.join(words_list))\n",
    "                    \n",
    "        return text_list"
   ]
  },
  {
   "cell_type": "code",
   "execution_count": 28,
   "id": "02260dca",
   "metadata": {},
   "outputs": [],
   "source": [
    "email_to_text = clean_email_text()"
   ]
  },
  {
   "cell_type": "code",
   "execution_count": 29,
   "id": "799531e0",
   "metadata": {},
   "outputs": [
    {
     "name": "stderr",
     "output_type": "stream",
     "text": [
      "Some characters could not be decoded, and were replaced with REPLACEMENT CHARACTER.\n",
      "Some characters could not be decoded, and were replaced with REPLACEMENT CHARACTER.\n",
      "Some characters could not be decoded, and were replaced with REPLACEMENT CHARACTER.\n",
      "Some characters could not be decoded, and were replaced with REPLACEMENT CHARACTER.\n",
      "Some characters could not be decoded, and were replaced with REPLACEMENT CHARACTER.\n",
      "Some characters could not be decoded, and were replaced with REPLACEMENT CHARACTER.\n",
      "Some characters could not be decoded, and were replaced with REPLACEMENT CHARACTER.\n",
      "Some characters could not be decoded, and were replaced with REPLACEMENT CHARACTER.\n",
      "Some characters could not be decoded, and were replaced with REPLACEMENT CHARACTER.\n",
      "Some characters could not be decoded, and were replaced with REPLACEMENT CHARACTER.\n",
      "Some characters could not be decoded, and were replaced with REPLACEMENT CHARACTER.\n",
      "Some characters could not be decoded, and were replaced with REPLACEMENT CHARACTER.\n",
      "Some characters could not be decoded, and were replaced with REPLACEMENT CHARACTER.\n",
      "Some characters could not be decoded, and were replaced with REPLACEMENT CHARACTER.\n",
      "Some characters could not be decoded, and were replaced with REPLACEMENT CHARACTER.\n"
     ]
    }
   ],
   "source": [
    "ham_text=email_to_text.transform(ham)\n",
    "spam_text=email_to_text.transform(spam)"
   ]
  },
  {
   "cell_type": "code",
   "execution_count": 10,
   "id": "bda6338c",
   "metadata": {},
   "outputs": [
    {
     "data": {
      "image/png": "[encoded data removed]",
      "text/plain": [
       "<Figure size 864x360 with 1 Axes>"
      ]
     },
     "metadata": {},
     "output_type": "display_data"
    }
   ],
   "source": [
    "data = [len(ham)/len(ham+spam), len(spam)/len(ham+spam)]\n",
    "labels = ['ham', 'spam']\n",
    "colors = ['green', 'red']\n",
    "plt.figure(figsize=(12, 5))\n",
    "plt.pie(data, labels = labels, autopct='%.0f%%', colors=colors)\n",
    "plt.show()"
   ]
  },
  {
   "cell_type": "code",
   "execution_count": 11,
   "id": "9154e9cc",
   "metadata": {},
   "outputs": [
    {
     "data": {
      "image/png": "[encoded data removed]",
      "text/plain": [
       "<Figure size 432x216 with 1 Axes>"
      ]
     },
     "metadata": {
      "needs_background": "light"
     },
     "output_type": "display_data"
    }
   ],
   "source": [
    "plt.figure(figsize=(6,3))\n",
    "sns.countplot(x = ['ham']*len(ham) + ['spam']*len(spam), palette=colors)\n",
    "plt.show()"
   ]
  },
  {
   "cell_type": "code",
   "execution_count": 12,
   "id": "1001806c",
   "metadata": {},
   "outputs": [],
   "source": [
    "y = len(ham_text)*[0] + len(spam_text)*[1]"
   ]
  },
  {
   "cell_type": "code",
   "execution_count": 13,
   "id": "06c1dd5b",
   "metadata": {},
   "outputs": [],
   "source": [
    "from sklearn.model_selection import train_test_split\n",
    "X_train, X_test, y_train, y_test = train_test_split(ham_text+spam_text, y,\n",
    "                                                    stratify=y, \n",
    "                                                    test_size=0.2)"
   ]
  },
  {
   "cell_type": "code",
   "execution_count": 14,
   "id": "4a104010",
   "metadata": {},
   "outputs": [
    {
     "data": {
      "text/plain": [
       "CountVectorizer(stop_words='english')"
      ]
     },
     "execution_count": 14,
     "metadata": {},
     "output_type": "execute_result"
    }
   ],
   "source": [
    "vectorizer = CountVectorizer(stop_words='english')\n",
    "vectorizer.fit(X_train)"
   ]
  },
  {
   "cell_type": "code",
   "execution_count": 15,
   "id": "378c254f",
   "metadata": {},
   "outputs": [],
   "source": [
    "X_train = vectorizer.transform(X_train).toarray()\n",
    "y_train = np.array(y_train).reshape(len(y_train), 1)"
   ]
  },
  {
   "cell_type": "code",
   "execution_count": 16,
   "id": "684690d7",
   "metadata": {},
   "outputs": [],
   "source": [
    "X_test = vectorizer.transform(X_test).toarray()\n",
    "y_test = np.array(y_test).reshape(len(y_test), 1)"
   ]
  },
  {
   "cell_type": "code",
   "execution_count": 17,
   "id": "ec9080bf",
   "metadata": {},
   "outputs": [],
   "source": [
    "from sklearn.linear_model import LogisticRegression"
   ]
  },
  {
   "cell_type": "code",
   "execution_count": 18,
   "id": "59d5219a",
   "metadata": {},
   "outputs": [
    {
     "data": {
      "text/plain": [
       "LogisticRegression()"
      ]
     },
     "execution_count": 18,
     "metadata": {},
     "output_type": "execute_result"
    }
   ],
   "source": [
    "logmodel = LogisticRegression()\n",
    "logmodel.fit(X_train, y_train)"
   ]
  },
  {
   "cell_type": "code",
   "execution_count": 19,
   "id": "c17c326e",
   "metadata": {},
   "outputs": [],
   "source": [
    "predictions = logmodel.predict(X_test)"
   ]
  },
  {
   "cell_type": "code",
   "execution_count": 20,
   "id": "73285ad5",
   "metadata": {},
   "outputs": [
    {
     "name": "stdout",
     "output_type": "stream",
     "text": [
      "accuracy score = 98.72%\n",
      "f1_Score = 97.51\n",
      "recall_score = 97.71\n",
      "precision_Score = 97.3\n"
     ]
    }
   ],
   "source": [
    "print(\"accuracy score = {}%\".format(round(accuracy_score(y_test, predictions)*100, 2)))\n",
    "print(\"f1_Score = {}\".format(round(f1_score(y_test, predictions)*100, 2)))\n",
    "print(\"recall_score = {}\".format(round(recall_score(y_test, predictions)*100, 2)))\n",
    "print(\"precision_Score = {}\".format(round(precision_score(y_test, predictions)*100, 2)))"
   ]
  },
  {
   "cell_type": "code",
   "execution_count": 21,
   "id": "390d1b24",
   "metadata": {},
   "outputs": [
    {
     "data": {
      "text/plain": [
       "array([[1378,   13],\n",
       "       [  11,  469]], dtype=int64)"
      ]
     },
     "execution_count": 21,
     "metadata": {},
     "output_type": "execute_result"
    }
   ],
   "source": [
    "confusion_matrix(y_test,predictions)"
   ]
  },
  {
   "cell_type": "code",
   "execution_count": 23,
   "id": "405bfa8b",
   "metadata": {},
   "outputs": [
    {
     "name": "stdout",
     "output_type": "stream",
     "text": [
      "Mean squared error using scaled data: 0.01\n",
      "\n"
     ]
    }
   ],
   "source": [
    "print(\"Mean squared error using scaled data: %.2f\\n\"\n",
    "      % mean_squared_error(y_test, predictions))"
   ]
  },
  {
   "cell_type": "code",
   "execution_count": 30,
   "id": "b030f371",
   "metadata": {},
   "outputs": [],
   "source": [
    "pipeline = Pipeline(steps=[\n",
    "    ('text', clean_email_text()),\n",
    "    ('vector', vectorizer),\n",
    "    ('model', logmodel)])"
   ]
  },
  {
   "cell_type": "code",
   "execution_count": 31,
   "id": "cff2de2c",
   "metadata": {},
   "outputs": [],
   "source": [
    "x_1 = np.array(len(ham)*[0]+len(spam)*[1]).reshape(len(ham+spam), 1)"
   ]
  },
  {
   "cell_type": "code",
   "execution_count": 32,
   "id": "fc7d6fe9",
   "metadata": {},
   "outputs": [
    {
     "name": "stderr",
     "output_type": "stream",
     "text": [
      "Some characters could not be decoded, and were replaced with REPLACEMENT CHARACTER.\n",
      "Some characters could not be decoded, and were replaced with REPLACEMENT CHARACTER.\n",
      "Some characters could not be decoded, and were replaced with REPLACEMENT CHARACTER.\n",
      "Some characters could not be decoded, and were replaced with REPLACEMENT CHARACTER.\n",
      "Some characters could not be decoded, and were replaced with REPLACEMENT CHARACTER.\n",
      "Some characters could not be decoded, and were replaced with REPLACEMENT CHARACTER.\n",
      "Some characters could not be decoded, and were replaced with REPLACEMENT CHARACTER.\n",
      "Some characters could not be decoded, and were replaced with REPLACEMENT CHARACTER.\n",
      "Some characters could not be decoded, and were replaced with REPLACEMENT CHARACTER.\n",
      "Some characters could not be decoded, and were replaced with REPLACEMENT CHARACTER.\n",
      "Some characters could not be decoded, and were replaced with REPLACEMENT CHARACTER.\n",
      "Some characters could not be decoded, and were replaced with REPLACEMENT CHARACTER.\n",
      "Some characters could not be decoded, and were replaced with REPLACEMENT CHARACTER.\n",
      "Some characters could not be decoded, and were replaced with REPLACEMENT CHARACTER.\n",
      "Some characters could not be decoded, and were replaced with REPLACEMENT CHARACTER.\n"
     ]
    },
    {
     "data": {
      "text/plain": [
       "Pipeline(steps=[('text', clean_email_text()),\n",
       "                ('vector', CountVectorizer(stop_words='english')),\n",
       "                ('model', LogisticRegression())])"
      ]
     },
     "execution_count": 32,
     "metadata": {},
     "output_type": "execute_result"
    }
   ],
   "source": [
    "pipeline.fit(ham+spam, x_1)"
   ]
  },
  {
   "cell_type": "code",
   "execution_count": null,
   "id": "8ae08b0a",
   "metadata": {},
   "outputs": [],
   "source": []
  }
 ],
 "metadata": {
  "kernelspec": {
   "display_name": "Python 3 (ipykernel)",
   "language": "python",
   "name": "python3"
  },
  "language_info": {
   "codemirror_mode": {
    "name": "ipython",
    "version": 3
   },
   "file_extension": ".py",
   "mimetype": "text/x-python",
   "name": "python",
   "nbconvert_exporter": "python",
   "pygments_lexer": "ipython3",
   "version": "3.9.7"
  }
 },
 "nbformat": 4,
 "nbformat_minor": 5
}
